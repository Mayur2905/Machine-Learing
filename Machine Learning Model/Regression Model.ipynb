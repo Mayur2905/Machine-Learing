{
 "cells": [
  {
   "cell_type": "markdown",
   "id": "8f7cd3e2",
   "metadata": {},
   "source": [
    "### Predict the price of the Uber ride from a given pickup point to the agreed drop-off location.\n",
    "### Perform following tasks:\n",
    "### 1. Pre-process the dataset.\n",
    "### 2. Identify outliers.\n",
    "### 3. Check the correlation.\n",
    "### 4. Implement linear regression and random forest regression models.\n",
    "### 5. Evaluate the models and compare their respective scores like R2, RMSE, etc.\n",
    "### Dataset link: https://www.kaggle.com/datasets/yasserh/uber-fares-dataset"
   ]
  },
  {
   "cell_type": "code",
   "execution_count": 1,
   "id": "8b0f62b4",
   "metadata": {},
   "outputs": [],
   "source": [
    "import numpy as np\n",
    "import pandas as pd"
   ]
  },
  {
   "cell_type": "code",
   "execution_count": 2,
   "id": "ea57abd4",
   "metadata": {},
   "outputs": [],
   "source": [
    "df= pd.read_csv(\"uber.csv\")"
   ]
  },
  {
   "cell_type": "code",
   "execution_count": 3,
   "id": "f685794a",
   "metadata": {},
   "outputs": [
    {
     "data": {
      "text/plain": [
       "<bound method NDFrame.head of         Unnamed: 0                            key  fare_amount  \\\n",
       "0         24238194    2015-05-07 19:52:06.0000003          7.5   \n",
       "1         27835199    2009-07-17 20:04:56.0000002          7.7   \n",
       "2         44984355   2009-08-24 21:45:00.00000061         12.9   \n",
       "3         25894730    2009-06-26 08:22:21.0000001          5.3   \n",
       "4         17610152  2014-08-28 17:47:00.000000188         16.0   \n",
       "...            ...                            ...          ...   \n",
       "199995    42598914   2012-10-28 10:49:00.00000053          3.0   \n",
       "199996    16382965    2014-03-14 01:09:00.0000008          7.5   \n",
       "199997    27804658   2009-06-29 00:42:00.00000078         30.9   \n",
       "199998    20259894    2015-05-20 14:56:25.0000004         14.5   \n",
       "199999    11951496   2010-05-15 04:08:00.00000076         14.1   \n",
       "\n",
       "                pickup_datetime  pickup_longitude  pickup_latitude  \\\n",
       "0       2015-05-07 19:52:06 UTC        -73.999817        40.738354   \n",
       "1       2009-07-17 20:04:56 UTC        -73.994355        40.728225   \n",
       "2       2009-08-24 21:45:00 UTC        -74.005043        40.740770   \n",
       "3       2009-06-26 08:22:21 UTC        -73.976124        40.790844   \n",
       "4       2014-08-28 17:47:00 UTC        -73.925023        40.744085   \n",
       "...                         ...               ...              ...   \n",
       "199995  2012-10-28 10:49:00 UTC        -73.987042        40.739367   \n",
       "199996  2014-03-14 01:09:00 UTC        -73.984722        40.736837   \n",
       "199997  2009-06-29 00:42:00 UTC        -73.986017        40.756487   \n",
       "199998  2015-05-20 14:56:25 UTC        -73.997124        40.725452   \n",
       "199999  2010-05-15 04:08:00 UTC        -73.984395        40.720077   \n",
       "\n",
       "        dropoff_longitude  dropoff_latitude  passenger_count  \n",
       "0              -73.999512         40.723217                1  \n",
       "1              -73.994710         40.750325                1  \n",
       "2              -73.962565         40.772647                1  \n",
       "3              -73.965316         40.803349                3  \n",
       "4              -73.973082         40.761247                5  \n",
       "...                   ...               ...              ...  \n",
       "199995         -73.986525         40.740297                1  \n",
       "199996         -74.006672         40.739620                1  \n",
       "199997         -73.858957         40.692588                2  \n",
       "199998         -73.983215         40.695415                1  \n",
       "199999         -73.985508         40.768793                1  \n",
       "\n",
       "[200000 rows x 9 columns]>"
      ]
     },
     "execution_count": 3,
     "metadata": {},
     "output_type": "execute_result"
    }
   ],
   "source": [
    "df.head"
   ]
  },
  {
   "cell_type": "code",
   "execution_count": 4,
   "id": "66597cac",
   "metadata": {},
   "outputs": [
    {
     "data": {
      "text/plain": [
       "(200000, 9)"
      ]
     },
     "execution_count": 4,
     "metadata": {},
     "output_type": "execute_result"
    }
   ],
   "source": [
    "df.shape"
   ]
  },
  {
   "cell_type": "code",
   "execution_count": 5,
   "id": "67d36ca5",
   "metadata": {},
   "outputs": [
    {
     "data": {
      "text/plain": [
       "Unnamed: 0  key                            fare_amount  pickup_datetime          pickup_longitude  pickup_latitude  dropoff_longitude  dropoff_latitude  passenger_count\n",
       "1           2010-01-05 16:52:16.0000002    16.9         2010-01-05 16:52:16 UTC  -74.016048        40.711303        -73.979268         40.782004         1                  1\n",
       "36975577    2011-01-09 00:55:02.0000003    9.3          2011-01-09 00:55:02 UTC  -73.983030        40.744800        -73.955020         40.774215         1                  1\n",
       "36968569    2011-06-13 13:38:48.0000001    8.9          2011-06-13 13:38:48 UTC  -73.991514        40.743654        -73.978592         40.755550         1                  1\n",
       "36968748    2013-02-25 18:37:42.0000001    8.0          2013-02-25 18:37:42 UTC  -73.970616        40.755955        -73.981663         40.739912         1                  1\n",
       "36969059    2014-02-07 20:31:03.0000005    13.5         2014-02-07 20:31:03 UTC  -73.968586        40.751724        -73.954154         40.769654         1                  1\n",
       "                                                                                                                                                                           ..\n",
       "18494755    2012-01-12 12:03:00.000000170  11.7         2012-01-12 12:03:00 UTC  -73.975342        40.765132        -73.990207         40.759107         5                  1\n",
       "18494937    2010-07-12 09:07:00.000000115  4.1          2010-07-12 09:07:00 UTC  -73.954520        40.805850        -73.952148         40.810673         3                  1\n",
       "18495130    2010-01-20 05:47:46.0000001    5.7          2010-01-20 05:47:46 UTC  -73.967425        40.801076        -73.975938         40.785477         1                  1\n",
       "18495375    2011-04-25 11:38:13.0000001    10.9         2011-04-25 11:38:13 UTC  -73.993990        40.735569        -74.010074         40.709845         1                  1\n",
       "55423567    2010-06-27 17:43:56.0000003    4.5          2010-06-27 17:43:56 UTC  -73.975406        40.751730        -73.965029         40.752614         1                  1\n",
       "Length: 199999, dtype: int64"
      ]
     },
     "execution_count": 5,
     "metadata": {},
     "output_type": "execute_result"
    }
   ],
   "source": [
    "df.value_counts()"
   ]
  },
  {
   "cell_type": "code",
   "execution_count": 6,
   "id": "10092e84",
   "metadata": {},
   "outputs": [
    {
     "data": {
      "text/plain": [
       "Unnamed: 0           0\n",
       "key                  0\n",
       "fare_amount          0\n",
       "pickup_datetime      0\n",
       "pickup_longitude     0\n",
       "pickup_latitude      0\n",
       "dropoff_longitude    1\n",
       "dropoff_latitude     1\n",
       "passenger_count      0\n",
       "dtype: int64"
      ]
     },
     "execution_count": 6,
     "metadata": {},
     "output_type": "execute_result"
    }
   ],
   "source": [
    "df.isna().sum()"
   ]
  },
  {
   "cell_type": "code",
   "execution_count": 7,
   "id": "4e348132",
   "metadata": {},
   "outputs": [
    {
     "data": {
      "text/plain": [
       "Unnamed: 0             int64\n",
       "key                   object\n",
       "fare_amount          float64\n",
       "pickup_datetime       object\n",
       "pickup_longitude     float64\n",
       "pickup_latitude      float64\n",
       "dropoff_longitude    float64\n",
       "dropoff_latitude     float64\n",
       "passenger_count        int64\n",
       "dtype: object"
      ]
     },
     "execution_count": 7,
     "metadata": {},
     "output_type": "execute_result"
    }
   ],
   "source": [
    "df.dtypes"
   ]
  },
  {
   "cell_type": "code",
   "execution_count": 8,
   "id": "d61b9ca3",
   "metadata": {},
   "outputs": [],
   "source": [
    "mean = df['dropoff_longitude'].mean()"
   ]
  },
  {
   "cell_type": "code",
   "execution_count": 9,
   "id": "ef7fec7a",
   "metadata": {},
   "outputs": [],
   "source": [
    "df['dropoff_longitude'].fillna(df['dropoff_longitude'].mean(), inplace = True)"
   ]
  },
  {
   "cell_type": "code",
   "execution_count": 10,
   "id": "58dd0e97",
   "metadata": {},
   "outputs": [],
   "source": [
    "mean1 = df['dropoff_latitude'].mean()\n"
   ]
  },
  {
   "cell_type": "code",
   "execution_count": 11,
   "id": "a0c5271f",
   "metadata": {},
   "outputs": [],
   "source": [
    "df['dropoff_latitude'].fillna(df['dropoff_latitude'].mean(), inplace = True)"
   ]
  },
  {
   "cell_type": "code",
   "execution_count": 12,
   "id": "a0b68cb4",
   "metadata": {},
   "outputs": [
    {
     "data": {
      "text/plain": [
       "Unnamed: 0           0\n",
       "key                  0\n",
       "fare_amount          0\n",
       "pickup_datetime      0\n",
       "pickup_longitude     0\n",
       "pickup_latitude      0\n",
       "dropoff_longitude    0\n",
       "dropoff_latitude     0\n",
       "passenger_count      0\n",
       "dtype: int64"
      ]
     },
     "execution_count": 12,
     "metadata": {},
     "output_type": "execute_result"
    }
   ],
   "source": [
    "df.isna().sum()"
   ]
  },
  {
   "cell_type": "code",
   "execution_count": 13,
   "id": "ff381095",
   "metadata": {},
   "outputs": [],
   "source": [
    "x=df.drop(['Unnamed: 0','key','fare_amount','pickup_datetime'],axis=1)\n",
    "y=df['fare_amount']"
   ]
  },
  {
   "cell_type": "code",
   "execution_count": 14,
   "id": "3e173a1f",
   "metadata": {},
   "outputs": [],
   "source": [
    "from sklearn.preprocessing import StandardScaler\n",
    "from sklearn.model_selection import train_test_split"
   ]
  },
  {
   "cell_type": "code",
   "execution_count": 15,
   "id": "d14f5290",
   "metadata": {},
   "outputs": [],
   "source": [
    "x_train,x_test,y_train,ytest = train_test_split(x,y,test_size=0.33,random_state=75)"
   ]
  },
  {
   "cell_type": "code",
   "execution_count": 16,
   "id": "4e293905",
   "metadata": {},
   "outputs": [],
   "source": [
    "x_scalar = StandardScaler()"
   ]
  },
  {
   "cell_type": "code",
   "execution_count": 17,
   "id": "377a2912",
   "metadata": {},
   "outputs": [],
   "source": [
    "x_train = x_scalar.fit_transform(x_train)\n",
    "x_test = x_scalar.fit_transform(x_test)"
   ]
  },
  {
   "cell_type": "code",
   "execution_count": 18,
   "id": "15a2fa78",
   "metadata": {},
   "outputs": [],
   "source": [
    "from sklearn.linear_model import LinearRegression"
   ]
  },
  {
   "cell_type": "code",
   "execution_count": 19,
   "id": "d4364caf",
   "metadata": {},
   "outputs": [],
   "source": [
    "L_model = LinearRegression()"
   ]
  },
  {
   "cell_type": "code",
   "execution_count": 20,
   "id": "1b59af76",
   "metadata": {},
   "outputs": [
    {
     "data": {
      "text/plain": [
       "LinearRegression()"
      ]
     },
     "execution_count": 20,
     "metadata": {},
     "output_type": "execute_result"
    }
   ],
   "source": [
    "L_model.fit(x_train,y_train)"
   ]
  },
  {
   "cell_type": "code",
   "execution_count": 21,
   "id": "9c23201d",
   "metadata": {},
   "outputs": [],
   "source": [
    "y_pred = L_model.predict(x_test)"
   ]
  },
  {
   "cell_type": "code",
   "execution_count": 22,
   "id": "eab6e636",
   "metadata": {},
   "outputs": [],
   "source": [
    "from sklearn.metrics import r2_score,mean_squared_error;"
   ]
  },
  {
   "cell_type": "code",
   "execution_count": 23,
   "id": "50ddcca9",
   "metadata": {},
   "outputs": [
    {
     "name": "stdout",
     "output_type": "stream",
     "text": [
      "0.00032728473527865454\n"
     ]
    }
   ],
   "source": [
    "print(r2_score(ytest,y_pred))"
   ]
  },
  {
   "cell_type": "code",
   "execution_count": 24,
   "id": "74ce3e98",
   "metadata": {},
   "outputs": [
    {
     "data": {
      "text/plain": [
       "97.5202716474676"
      ]
     },
     "execution_count": 24,
     "metadata": {},
     "output_type": "execute_result"
    }
   ],
   "source": [
    "mean_squared_error(ytest,y_pred)"
   ]
  },
  {
   "cell_type": "code",
   "execution_count": 25,
   "id": "9c20f5c5",
   "metadata": {},
   "outputs": [],
   "source": [
    "from sklearn.ensemble import RandomForestRegressor"
   ]
  },
  {
   "cell_type": "code",
   "execution_count": 26,
   "id": "2d1770aa",
   "metadata": {},
   "outputs": [],
   "source": [
    "L_model = RandomForestRegressor()"
   ]
  },
  {
   "cell_type": "code",
   "execution_count": 27,
   "id": "bd92243c",
   "metadata": {},
   "outputs": [
    {
     "data": {
      "text/plain": [
       "RandomForestRegressor()"
      ]
     },
     "execution_count": 27,
     "metadata": {},
     "output_type": "execute_result"
    }
   ],
   "source": [
    "L_model.fit(x_train,y_train)"
   ]
  },
  {
   "cell_type": "code",
   "execution_count": 28,
   "id": "92029860",
   "metadata": {},
   "outputs": [],
   "source": [
    "y_pred = L_model.predict(x_test)"
   ]
  },
  {
   "cell_type": "code",
   "execution_count": 29,
   "id": "2b54102a",
   "metadata": {},
   "outputs": [
    {
     "data": {
      "text/plain": [
       "-18.635951541168453"
      ]
     },
     "execution_count": 29,
     "metadata": {},
     "output_type": "execute_result"
    }
   ],
   "source": [
    "r2_score(y_pred,ytest)"
   ]
  },
  {
   "cell_type": "code",
   "execution_count": 30,
   "id": "aeaa8897",
   "metadata": {},
   "outputs": [
    {
     "data": {
      "text/plain": [
       "1821.6954114473344"
      ]
     },
     "execution_count": 30,
     "metadata": {},
     "output_type": "execute_result"
    }
   ],
   "source": [
    "mean_squared_error(ytest,y_pred)"
   ]
  }
 ],
 "metadata": {
  "kernelspec": {
   "display_name": "Python 3 (ipykernel)",
   "language": "python",
   "name": "python3"
  },
  "language_info": {
   "codemirror_mode": {
    "name": "ipython",
    "version": 3
   },
   "file_extension": ".py",
   "mimetype": "text/x-python",
   "name": "python",
   "nbconvert_exporter": "python",
   "pygments_lexer": "ipython3",
   "version": "3.10.1"
  }
 },
 "nbformat": 4,
 "nbformat_minor": 5
}
